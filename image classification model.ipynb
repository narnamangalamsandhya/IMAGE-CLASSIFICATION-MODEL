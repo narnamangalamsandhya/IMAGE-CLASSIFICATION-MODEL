{
 "cells": [
  {
   "cell_type": "code",
   "execution_count": 1,
   "id": "4c6112d7-750c-4cc0-9d6c-b187a3cdc3a9",
   "metadata": {},
   "outputs": [
    {
     "name": "stdout",
     "output_type": "stream",
     "text": [
      "2.12.0\n"
     ]
    }
   ],
   "source": [
    "import tensorflow as tf\n",
    "print(tf.__version__)"
   ]
  },
  {
   "cell_type": "code",
   "execution_count": 2,
   "id": "b7799a24-18f5-47d4-a3ea-409a3496bf82",
   "metadata": {},
   "outputs": [
    {
     "name": "stdout",
     "output_type": "stream",
     "text": [
      "Requirement already satisfied: matplotlib in c:\\users\\cool\\appdata\\local\\programs\\python\\python310\\lib\\site-packages (3.10.3)\n",
      "Requirement already satisfied: pillow in c:\\users\\cool\\appdata\\local\\programs\\python\\python310\\lib\\site-packages (11.3.0)\n",
      "Requirement already satisfied: tensorflow-datasets in c:\\users\\cool\\appdata\\local\\programs\\python\\python310\\lib\\site-packages (4.9.9)\n",
      "Requirement already satisfied: contourpy>=1.0.1 in c:\\users\\cool\\appdata\\local\\programs\\python\\python310\\lib\\site-packages (from matplotlib) (1.3.2)\n",
      "Requirement already satisfied: cycler>=0.10 in c:\\users\\cool\\appdata\\local\\programs\\python\\python310\\lib\\site-packages (from matplotlib) (0.12.1)\n",
      "Requirement already satisfied: fonttools>=4.22.0 in c:\\users\\cool\\appdata\\local\\programs\\python\\python310\\lib\\site-packages (from matplotlib) (4.58.5)\n",
      "Requirement already satisfied: kiwisolver>=1.3.1 in c:\\users\\cool\\appdata\\local\\programs\\python\\python310\\lib\\site-packages (from matplotlib) (1.4.8)\n",
      "Requirement already satisfied: numpy>=1.23 in c:\\users\\cool\\appdata\\local\\programs\\python\\python310\\lib\\site-packages (from matplotlib) (1.23.5)\n",
      "Requirement already satisfied: packaging>=20.0 in c:\\users\\cool\\appdata\\local\\programs\\python\\python310\\lib\\site-packages (from matplotlib) (25.0)\n",
      "Requirement already satisfied: pyparsing>=2.3.1 in c:\\users\\cool\\appdata\\local\\programs\\python\\python310\\lib\\site-packages (from matplotlib) (3.2.3)\n",
      "Requirement already satisfied: python-dateutil>=2.7 in c:\\users\\cool\\appdata\\local\\programs\\python\\python310\\lib\\site-packages (from matplotlib) (2.9.0.post0)\n",
      "Requirement already satisfied: absl-py in c:\\users\\cool\\appdata\\local\\programs\\python\\python310\\lib\\site-packages (from tensorflow-datasets) (2.3.1)\n",
      "Requirement already satisfied: dm-tree in c:\\users\\cool\\appdata\\local\\programs\\python\\python310\\lib\\site-packages (from tensorflow-datasets) (0.1.9)\n",
      "Requirement already satisfied: etils>=1.6.0 in c:\\users\\cool\\appdata\\local\\programs\\python\\python310\\lib\\site-packages (from etils[edc,enp,epath,epy,etree]>=1.6.0; python_version < \"3.11\"->tensorflow-datasets) (1.12.2)\n",
      "Requirement already satisfied: immutabledict in c:\\users\\cool\\appdata\\local\\programs\\python\\python310\\lib\\site-packages (from tensorflow-datasets) (4.2.1)\n",
      "Requirement already satisfied: promise in c:\\users\\cool\\appdata\\local\\programs\\python\\python310\\lib\\site-packages (from tensorflow-datasets) (2.3)\n",
      "Requirement already satisfied: protobuf>=3.20 in c:\\users\\cool\\appdata\\local\\programs\\python\\python310\\lib\\site-packages (from tensorflow-datasets) (4.21.12)\n",
      "Requirement already satisfied: psutil in c:\\users\\cool\\appdata\\local\\programs\\python\\python310\\lib\\site-packages (from tensorflow-datasets) (7.0.0)\n",
      "Requirement already satisfied: pyarrow in c:\\users\\cool\\appdata\\local\\programs\\python\\python310\\lib\\site-packages (from tensorflow-datasets) (20.0.0)\n",
      "Requirement already satisfied: requests>=2.19.0 in c:\\users\\cool\\appdata\\local\\programs\\python\\python310\\lib\\site-packages (from tensorflow-datasets) (2.32.4)\n",
      "Requirement already satisfied: simple_parsing in c:\\users\\cool\\appdata\\local\\programs\\python\\python310\\lib\\site-packages (from tensorflow-datasets) (0.1.7)\n",
      "Requirement already satisfied: tensorflow-metadata in c:\\users\\cool\\appdata\\local\\programs\\python\\python310\\lib\\site-packages (from tensorflow-datasets) (1.17.2)\n",
      "Requirement already satisfied: termcolor in c:\\users\\cool\\appdata\\local\\programs\\python\\python310\\lib\\site-packages (from tensorflow-datasets) (3.1.0)\n",
      "Requirement already satisfied: toml in c:\\users\\cool\\appdata\\local\\programs\\python\\python310\\lib\\site-packages (from tensorflow-datasets) (0.10.2)\n",
      "Requirement already satisfied: tqdm in c:\\users\\cool\\appdata\\local\\programs\\python\\python310\\lib\\site-packages (from tensorflow-datasets) (4.67.1)\n",
      "Requirement already satisfied: wrapt in c:\\users\\cool\\appdata\\local\\programs\\python\\python310\\lib\\site-packages (from tensorflow-datasets) (1.14.1)\n",
      "Requirement already satisfied: typing_extensions in c:\\users\\cool\\appdata\\local\\programs\\python\\python310\\lib\\site-packages (from etils[edc,enp,epath,epy,etree]>=1.6.0; python_version < \"3.11\"->tensorflow-datasets) (4.14.1)\n",
      "Requirement already satisfied: fsspec in c:\\users\\cool\\appdata\\local\\programs\\python\\python310\\lib\\site-packages (from etils[edc,enp,epath,epy,etree]>=1.6.0; python_version < \"3.11\"->tensorflow-datasets) (2025.5.1)\n",
      "Requirement already satisfied: importlib_resources in c:\\users\\cool\\appdata\\local\\programs\\python\\python310\\lib\\site-packages (from etils[edc,enp,epath,epy,etree]>=1.6.0; python_version < \"3.11\"->tensorflow-datasets) (6.5.2)\n",
      "Requirement already satisfied: zipp in c:\\users\\cool\\appdata\\local\\programs\\python\\python310\\lib\\site-packages (from etils[edc,enp,epath,epy,etree]>=1.6.0; python_version < \"3.11\"->tensorflow-datasets) (3.23.0)\n",
      "Requirement already satisfied: einops in c:\\users\\cool\\appdata\\local\\programs\\python\\python310\\lib\\site-packages (from etils[edc,enp,epath,epy,etree]>=1.6.0; python_version < \"3.11\"->tensorflow-datasets) (0.8.1)\n",
      "Requirement already satisfied: six>=1.5 in c:\\users\\cool\\appdata\\local\\programs\\python\\python310\\lib\\site-packages (from python-dateutil>=2.7->matplotlib) (1.17.0)\n",
      "Requirement already satisfied: charset_normalizer<4,>=2 in c:\\users\\cool\\appdata\\local\\programs\\python\\python310\\lib\\site-packages (from requests>=2.19.0->tensorflow-datasets) (3.4.2)\n",
      "Requirement already satisfied: idna<4,>=2.5 in c:\\users\\cool\\appdata\\local\\programs\\python\\python310\\lib\\site-packages (from requests>=2.19.0->tensorflow-datasets) (3.10)\n",
      "Requirement already satisfied: urllib3<3,>=1.21.1 in c:\\users\\cool\\appdata\\local\\programs\\python\\python310\\lib\\site-packages (from requests>=2.19.0->tensorflow-datasets) (2.5.0)\n",
      "Requirement already satisfied: certifi>=2017.4.17 in c:\\users\\cool\\appdata\\local\\programs\\python\\python310\\lib\\site-packages (from requests>=2.19.0->tensorflow-datasets) (2025.6.15)\n",
      "Requirement already satisfied: attrs>=18.2.0 in c:\\users\\cool\\appdata\\local\\programs\\python\\python310\\lib\\site-packages (from dm-tree->tensorflow-datasets) (25.3.0)\n",
      "Requirement already satisfied: docstring-parser<1.0,>=0.15 in c:\\users\\cool\\appdata\\local\\programs\\python\\python310\\lib\\site-packages (from simple_parsing->tensorflow-datasets) (0.16)\n",
      "Requirement already satisfied: colorama in c:\\users\\cool\\appdata\\local\\programs\\python\\python310\\lib\\site-packages (from tqdm->tensorflow-datasets) (0.4.6)\n"
     ]
    }
   ],
   "source": [
    "!pip install matplotlib pillow tensorflow-datasets"
   ]
  },
  {
   "cell_type": "code",
   "execution_count": 4,
   "id": "ada4b154-7d48-4b7f-a70b-b908bcbcf07b",
   "metadata": {},
   "outputs": [
    {
     "name": "stdout",
     "output_type": "stream",
     "text": [
      "Downloading data from https://storage.googleapis.com/tensorflow/tf-keras-datasets/mnist.npz\n",
      "11490434/11490434 [==============================] - 3s 0us/step\n",
      "Epoch 1/5\n",
      "1688/1688 [==============================] - 42s 24ms/step - loss: 0.1536 - accuracy: 0.9535 - val_loss: 0.0558 - val_accuracy: 0.9827\n",
      "Epoch 2/5\n",
      "1688/1688 [==============================] - 40s 24ms/step - loss: 0.0498 - accuracy: 0.9842 - val_loss: 0.0400 - val_accuracy: 0.9875\n",
      "Epoch 3/5\n",
      "1688/1688 [==============================] - 40s 24ms/step - loss: 0.0348 - accuracy: 0.9889 - val_loss: 0.0381 - val_accuracy: 0.9900\n",
      "Epoch 4/5\n",
      "1688/1688 [==============================] - 41s 24ms/step - loss: 0.0253 - accuracy: 0.9919 - val_loss: 0.0355 - val_accuracy: 0.9905\n",
      "Epoch 5/5\n",
      "1688/1688 [==============================] - 40s 24ms/step - loss: 0.0195 - accuracy: 0.9938 - val_loss: 0.0359 - val_accuracy: 0.9900\n",
      "313/313 [==============================] - 3s 9ms/step - loss: 0.0319 - accuracy: 0.9898\n",
      "Test accuracy: 0.9898\n"
     ]
    }
   ],
   "source": [
    "import tensorflow as tf\n",
    "from tensorflow.keras import layers, models\n",
    "import matplotlib.pyplot as plt\n",
    "\n",
    "# Load dataset\n",
    "mnist = tf.keras.datasets.mnist\n",
    "(x_train, y_train), (x_test, y_test) = mnist.load_data()\n",
    "\n",
    "# Normalize data\n",
    "x_train, x_test = x_train / 255.0, x_test / 255.0\n",
    "x_train = x_train[..., tf.newaxis]\n",
    "x_test = x_test[..., tf.newaxis]\n",
    "\n",
    "# Build CNN model\n",
    "model = models.Sequential([\n",
    "    layers.Conv2D(32, (3, 3), activation='relu', input_shape=(28, 28, 1)),\n",
    "    layers.MaxPooling2D((2, 2)),\n",
    "    layers.Conv2D(64, (3, 3), activation='relu'),\n",
    "    layers.MaxPooling2D((2, 2)),\n",
    "    layers.Flatten(),\n",
    "    layers.Dense(64, activation='relu'),\n",
    "    layers.Dense(10, activation='softmax')\n",
    "])\n",
    "\n",
    "# Compile model\n",
    "model.compile(optimizer='adam',\n",
    "              loss='sparse_categorical_crossentropy',\n",
    "              metrics=['accuracy'])\n",
    "\n",
    "# Train model\n",
    "model.fit(x_train, y_train, epochs=5, validation_split=0.1)\n",
    "\n",
    "# Evaluate model\n",
    "test_loss, test_acc = model.evaluate(x_test, y_test)\n",
    "print(f\"Test accuracy: {test_acc:.4f}\")\n"
   ]
  },
  {
   "cell_type": "code",
   "execution_count": null,
   "id": "12ab3797-ebae-4314-9a72-3bff1aa5696a",
   "metadata": {},
   "outputs": [],
   "source": []
  }
 ],
 "metadata": {
  "kernelspec": {
   "display_name": "Python 3 (ipykernel)",
   "language": "python",
   "name": "python3"
  },
  "language_info": {
   "codemirror_mode": {
    "name": "ipython",
    "version": 3
   },
   "file_extension": ".py",
   "mimetype": "text/x-python",
   "name": "python",
   "nbconvert_exporter": "python",
   "pygments_lexer": "ipython3",
   "version": "3.10.0"
  }
 },
 "nbformat": 4,
 "nbformat_minor": 5
}
